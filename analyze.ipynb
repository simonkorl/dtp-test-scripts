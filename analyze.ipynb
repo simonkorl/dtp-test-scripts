{
 "cells": [
  {
   "cell_type": "code",
   "execution_count": 2,
   "metadata": {},
   "outputs": [],
   "source": [
    "import argparse\n",
    "import csv\n",
    "import re\n",
    "import os\n",
    "import polars as pl\n",
    "import numpy as np\n",
    "import matplotlib.pyplot as plt\n",
    "\n",
    "import utils\n",
    "\n",
    "from matplotlib.animation import FuncAnimation\n",
    "from matplotlib.axes import Axes\n",
    "\n",
    "def parse_trace(trace_file_name: str) -> pl.DataFrame:\n",
    "    \"\"\"\n",
    "    # parse_trace\n",
    "\n",
    "    Parse a trace file and return a polars DataFrame.\n",
    "\n",
    "        Parameters:\n",
    "            trace_file_name (str): The name of the trace file.\n",
    "\n",
    "        Returns:\n",
    "            polars.DataFrame: The parsed trace.\n",
    "\n",
    "    Format of the trace file:\n",
    "        (line number as index) gap ddl size prio\n",
    "\n",
    "        Example:\n",
    "            ```\n",
    "            0.1 200 1300 1\n",
    "            0.1 200 1300 2\n",
    "    \"\"\"\n",
    "    trace = []\n",
    "    with open(trace_file_name, \"r\") as f:\n",
    "        lines = f.readlines()\n",
    "        for idx, line in enumerate(lines):\n",
    "            info = re.split(r\"\\s+\", line)\n",
    "            trace.append(\n",
    "                {\n",
    "                    \"id\": idx,\n",
    "                    \"start\": float(info[0]),\n",
    "                    \"gap\": float(info[0]),\n",
    "                    \"ddl\": int(info[1]),\n",
    "                    \"size\": int(info[2]),\n",
    "                    \"prio\": int(info[3]),\n",
    "                }\n",
    "            )\n",
    "    trace = pl.from_dicts(trace)\n",
    "    trace[\"start\"] = trace[\"start\"].cumsum()\n",
    "    return trace\n",
    "\n",
    "def parse_server_log(server_log_file_name: str) -> pl.DataFrame:\n",
    "    \"\"\"\n",
    "    # parse_server_log\n",
    "\n",
    "    Parse a server log file and return a polars DataFrame.\n",
    "\n",
    "        Parameters:\n",
    "            server_log_file_name (str): The name of the server log file.\n",
    "\n",
    "        Returns:\n",
    "            polars.DataFrame: The parsed server log.\n",
    "\n",
    "    Format of the server log file:\n",
    "        CSV file with following columns:\n",
    "        - block_id\n",
    "        - start\n",
    "        - complete\n",
    "        - cancelled\n",
    "        - cancelled_passed\n",
    "    \"\"\"\n",
    "    try:\n",
    "        server_log = pl.read_csv(server_log_file_name)\n",
    "        server_log[\"block_id\"] = server_log[\"block_id\"].apply(lambda x: (x >> 2) - 1)\n",
    "        return server_log\n",
    "    except:\n",
    "        return pl.DataFrame(\n",
    "            None, [\"block_id\", \"start\", \"complete\", \"cancelled\", \"cancelled_passed\"]\n",
    "        )\n",
    "\n",
    "def parse_result(result_file_name: str) -> pl.DataFrame:\n",
    "    \"\"\"\n",
    "    # parse_result\n",
    "\n",
    "    Parse a result file and return a polars DataFrame.\n",
    "\n",
    "        Parameters:\n",
    "            result_file_name (str): The name of the result file.\n",
    "\n",
    "        Returns:\n",
    "            polars.DataFrame: The parsed result.\n",
    "\n",
    "    Format of the result file:\n",
    "        CSV file with following columns:\n",
    "        - block_id\n",
    "        - bct\n",
    "        - size\n",
    "        - priority\n",
    "        - deadline\n",
    "        - duration\n",
    "    \"\"\"\n",
    "    try:\n",
    "        result = pl.read_csv(result_file_name)\n",
    "        result[\"block_id\"] = result[\"block_id\"].apply(lambda x: (x >> 2) - 1)\n",
    "        return result\n",
    "    except:\n",
    "        return pl.DataFrame(\n",
    "            None, [\"block_id\", \"bct\", \"size\", \"priority\", \"deadline\", \"duration\"]\n",
    "        )\n",
    "        \n",
    "def find_unsend(result_file_name, trace_file_name):\n",
    "    if trace_file_name is not None:\n",
    "        block_num = utils.count_newlines(trace_file_name)\n",
    "        trace = set(range(block_num))\n",
    "\n",
    "        with open(result_file_name, \"r\") as f:\n",
    "            reader = csv.DictReader(f)\n",
    "            result = [((int(row[\"block_id\"]) - 1) >> 2) - 1 for row in reader]\n",
    "\n",
    "        res = sorted([(x, ((x + 1) << 2) + 1) for x in trace - set(result)])\n",
    "\n",
    "        return (len(res), res)\n",
    "    else:\n",
    "        raise Exception(\"trace_file_name is None\")\n",
    "\n",
    "\n",
    "def total_time(trace_file_name):\n",
    "    with open(trace_file_name, \"r\") as f:\n",
    "        reader = csv.reader(f, delimiter=\" \")\n",
    "        return sum([float(row[0]) for row in reader])\n",
    "\n",
    "\n",
    "def draw(result_file_name, trace_file_name):\n",
    "    result = pl.read_csv(result_file_name)\n",
    "    result[\"block_id\"] = result[\"block_id\"].apply(lambda x: (x >> 2) - 1)\n",
    "    trace = parse_trace(trace_file_name).rename({\"gap\": \"start\"})\n",
    "    trace[\"start\"] = trace[\"start\"].cumsum()\n",
    "    result = result.join(trace, left_on=\"block_id\", right_on=\"id\", how=\"outer\")\n",
    "    print(result)\n",
    "    result = result.select(\n",
    "        [\n",
    "            \"block_id\",\n",
    "            (pl.col(\"bct\") / 1000 < pl.col(\"ddl\")).alias(\"intime\"),\n",
    "            # (\n",
    "            #     (pl.col(\"duration\") / 1000) < (pl.col(\"ddl\") + pl.col(\"start\") * 1000)\n",
    "            # ).alias(\"intime\"),\n",
    "            \"prio\",\n",
    "            \"ddl\",\n",
    "            (pl.col(\"ddl\") / 1e3 + pl.col(\"start\")).alias(\"timestamp\"),\n",
    "        ]\n",
    "    )\n",
    "    print(result)\n",
    "\n",
    "    x = result[\"timestamp\"].to_numpy()\n",
    "    y = np.zeros((8, len(x)))\n",
    "    y_count = np.zeros(8)\n",
    "    y_intime = np.zeros(8)\n",
    "    for i in range(len(x)):\n",
    "        y_count[result[\"prio\"][i]] += 1\n",
    "        if result[\"intime\"][i]:\n",
    "            y_intime[result[\"prio\"][i]] += 1\n",
    "        for j in range(8):\n",
    "            y[j][i] = y_intime[j] / y_count[j] if y_count[j] > 0 else 1\n",
    "\n",
    "    fig, ax = plt.subplots()\n",
    "    # ax.plot(x, y[0], label=\"prio 0\")\n",
    "    ax.plot(x, y[1], label=\"prio 1\")\n",
    "    ax.plot(x, y[2], label=\"prio 2\")\n",
    "    # ax.plot(x, y[3], label=\"prio 3\")\n",
    "    # ax.plot(x, y[4], label=\"prio 4\")\n",
    "    # ax.plot(x, y[5], label=\"prio 5\")\n",
    "    # ax.plot(x, y[6], label=\"prio 6\")\n",
    "    # ax.plot(x, y[7], label=\"prio 7\")\n",
    "\n",
    "    ax.set_ylim(0, 1.05)\n",
    "    ax.set_xlabel(\"time (s)\")\n",
    "    ax.set_ylabel(\"average intime ratio\")\n",
    "    ax.legend()\n",
    "\n",
    "    plt.savefig(f\"{os.path.basename(result_file_name).split('.')[0]}.png\")\n",
    "\n",
    "    result = result.groupby(\"prio\").agg([pl.count(), (pl.col(\"intime\") == True).sum()])\n",
    "    print(result)\n",
    "\n",
    "def hist(result_file_name, trace_file_name):\n",
    "    trace = parse_trace(trace_file_name)\n",
    "    # print(\n",
    "    #     trace.groupby(\"prio\").agg(\n",
    "    #         [\n",
    "    #             pl.count(),\n",
    "    #             pl.mean(\"size\").alias(\"size_mean\"),\n",
    "    #             pl.var(\"size\").alias(\"size_var\"),\n",
    "    #         ]\n",
    "    #     )\n",
    "    # )\n",
    "    # trace = trace.partition_by(\"prio\")\n",
    "    # prio_1 = trace[0][\"size\"].to_numpy()\n",
    "    # prio_2 = trace[1][\"size\"].to_numpy()\n",
    "\n",
    "    # fig, ax = plt.subplots()\n",
    "    # ax.hist(prio_1, 100, density=True, label=\"prio 1\")\n",
    "    # ax.hist(prio_2, 100, density=True, label=\"prio 2\")\n",
    "    # ax.set_xlabel(\"size (bytes)\")\n",
    "    # ax.set_ylabel(\"density\")\n",
    "    # trace = trace[\"size\"].to_numpy()\n",
    "    # fig, ax = plt.subplots()\n",
    "    # # ax.plot(trace)\n",
    "    # ax.scatter(np.arange(len(trace)), trace)\n",
    "    # plt.savefig(\"trace_size.png\")\n",
    "\n",
    "    # result = pl.read_csv(result_file_name)\n",
    "    # print(\n",
    "    #     result.groupby(\"priority\").agg(\n",
    "    #         [\n",
    "    #             pl.count(),\n",
    "    #             pl.mean(\"bct\").alias(\"bct_mean\"),\n",
    "    #             pl.var(\"bct\").alias(\"bct_var\"),\n",
    "    #         ]\n",
    "    #     )\n",
    "    # )\n",
    "    # result = result.partition_by(\"priority\")\n",
    "    # prio_1 = result[0][\"bct\"].to_numpy()\n",
    "    # prio_2 = result[1][\"bct\"].to_numpy()\n",
    "    # fig, ax = plt.subplots()\n",
    "    # ax.hist(prio_1, 100, density=True, label=\"prio 1\")\n",
    "    # ax.hist(prio_2, 100, density=True, label=\"prio 2\")\n",
    "    # ax.set_xlabel(\"bct (us)\")\n",
    "    # ax.set_ylabel(\"density\")\n",
    "    # plt.savefig(\"result_bct_hist.png\")"
   ]
  },
  {
   "cell_type": "code",
   "execution_count": 3,
   "metadata": {},
   "outputs": [
    {
     "name": "stdout",
     "output_type": "stream",
     "text": [
      "Solarize_Light2\n",
      "_classic_test_patch\n",
      "_mpl-gallery\n",
      "_mpl-gallery-nogrid\n",
      "bmh\n",
      "classic\n",
      "dark_background\n",
      "fast\n",
      "fivethirtyeight\n",
      "ggplot\n",
      "grayscale\n",
      "seaborn\n",
      "seaborn-bright\n",
      "seaborn-colorblind\n",
      "seaborn-dark\n",
      "seaborn-dark-palette\n",
      "seaborn-darkgrid\n",
      "seaborn-deep\n",
      "seaborn-muted\n",
      "seaborn-notebook\n",
      "seaborn-paper\n",
      "seaborn-pastel\n",
      "seaborn-poster\n",
      "seaborn-talk\n",
      "seaborn-ticks\n",
      "seaborn-white\n",
      "seaborn-whitegrid\n",
      "tableau-colorblind10\n"
     ]
    }
   ],
   "source": [
    "for style in plt.style.available:\n",
    "    print(style)"
   ]
  },
  {
   "cell_type": "markdown",
   "metadata": {},
   "source": [
    "# trace hist"
   ]
  },
  {
   "cell_type": "code",
   "execution_count": 4,
   "metadata": {},
   "outputs": [],
   "source": [
    "from xml.dom.pulldom import PROCESSING_INSTRUCTION\n",
    "\n",
    "\n",
    "plt.style.use(\"seaborn-white\")\n",
    "def trace_hist(trace_file_name):\n",
    "    trace = parse_trace(trace_file_name)\n",
    "    # print the distribution of block_size, ddl and priority with block num\n",
    "    # print(\n",
    "    #     trace.groupby(\"prio\").agg(\n",
    "    #         [\n",
    "    #             pl.count(),\n",
    "    #             pl.mean(\"size\").alias(\"size_mean\"),\n",
    "    #             pl.var(\"size\").alias(\"size_var\"),\n",
    "    #         ]\n",
    "    #     )\n",
    "    # )\n",
    "    prio_trace = trace.partition_by(\"prio\")\n",
    "    prio_1 = prio_trace[0][\"size\"].to_numpy()\n",
    "    prio_2 = prio_trace[1][\"size\"].to_numpy()\n",
    "\n",
    "    # fig, ax = plt.subplots()\n",
    "    # ax.hist(prio_1, 100, label=\"prio 1\")\n",
    "    # ax.hist(prio_2, 100, density=True, label=\"prio 2\")\n",
    "    # ax.set_xlabel(\"size (bytes)\")\n",
    "    # ax.set_ylabel(\"density\")\n",
    "\n",
    "    # fig, ax = plt.subplots()\n",
    "    # ax.hist(prio_1, 100, density=True, label=\"prio 1\")\n",
    "    # ax.hist(prio_2, 100, density=True, label=\"prio 2\")\n",
    "    # ax.set_xlabel(\"size (bytes)\")\n",
    "    # ax.set_ylabel(\"density\")\n",
    "\n",
    "    # block size trend with block num\n",
    "    size_trace = trace[\"size\"].to_numpy()\n",
    "    fig, ax = plt.subplots()\n",
    "    ax.bar([1], [len(prio_trace[0][\"prio\"])], color=[\"orange\"], width=0.5, label=\"high priority\")\n",
    "    ax.bar([2], [len(prio_trace[1][\"prio\"])], color=[\"blue\"], width=0.5, label=\"low priority\")\n",
    "    ax.set_xlabel(\"priority\")\n",
    "    ax.set_ylabel(\"block number\")\n",
    "    ax.legend(ncol=2, bbox_to_anchor=(0.5, 1),\n",
    "              loc='lower center')\n",
    "\n",
    "    # distribution of trace\n",
    "    fig, ax = plt.subplots()\n",
    "    size = 28\n",
    "    # ax.scatter(np.arange(len(trace[:size])), size_trace[:size], c=[\"orange\" if trace[i][\"prio\"][0] == 1 else \"blue\" for i in range(len(size_trace[:size]))])\n",
    "    xarray = []\n",
    "    for i in range(size):\n",
    "        if trace[i][\"prio\"][0] == 1:\n",
    "            xarray.append(i)\n",
    "    ax.bar(xarray, size_trace[:len(xarray)], color=\"orange\", label=\"high prioriy\") \n",
    "    xarray = []\n",
    "    for i in range(size):\n",
    "        if trace[i][\"prio\"][0] == 2:\n",
    "            xarray.append(i)\n",
    "    ax.bar(xarray, size_trace[:len(xarray)], color=\"blue\", label=\"low priority\")\n",
    "    ax.set_xlabel(\"block No.\")\n",
    "    ax.set_ylabel(\"size (bytes)\")\n",
    "    ax.set_xlim((0, 25))\n",
    "    ax.legend(ncol=2, bbox_to_anchor=(0.5, 1),\n",
    "              loc='lower center')\n",
    "    # ax.plot(size_trace)\n",
    "    # ax.scatter(prio_trace[0][\"id\"].to_numpy(), prio_trace[0][\"size\"].to_numpy(), c=[\"red\"])\n",
    "    # ax.scatter(prio_trace[1][\"id\"].to_numpy(), prio_trace[1][\"size\"].to_numpy(), c=[\"yellow\"])\n",
    "    # plt.savefig(\"trace_size.png\")\n",
    "\n",
    "    # result = pl.read_csv(result_file_name)\n",
    "    # print(\n",
    "    #     result.groupby(\"priority\").agg(\n",
    "    #         [\n",
    "    #             pl.count(),\n",
    "    #             pl.mean(\"bct\").alias(\"bct_mean\"),\n",
    "    #             pl.var(\"bct\").alias(\"bct_var\"),\n",
    "    #         ]\n",
    "    #     )\n",
    "    # )\n",
    "    # result = result.partition_by(\"priority\")\n",
    "    # prio_1 = result[0][\"bct\"].to_numpy()\n",
    "    # prio_2 = result[1][\"bct\"].to_numpy()\n",
    "    # fig, ax = plt.subplots()\n",
    "    # ax.hist(prio_1, 100, density=True, label=\"prio 1\")\n",
    "    # ax.hist(prio_2, 100, density=True, label=\"prio 2\")\n",
    "    # ax.set_xlabel(\"bct (us)\")\n",
    "    # ax.set_ylabel(\"density\")\n",
    "    # plt.savefig(\"result_bct_hist.png\")\n",
    "#trace_hist(\"data/trace_1300_1ms_1000_seq012.txt\")"
   ]
  },
  {
   "cell_type": "markdown",
   "metadata": {},
   "source": [
    "# get stats"
   ]
  },
  {
   "cell_type": "code",
   "execution_count": 47,
   "metadata": {},
   "outputs": [
    {
     "name": "stdout",
     "output_type": "stream",
     "text": [
      "stats of data/client_n_n_fifo.csv\n",
      "0\n",
      "prio  1 6272.96\n",
      "prio 1 0.161\n",
      "1\n",
      "prio  2 6253.49\n",
      "prio 2 0.072\n",
      "throughput: 79.15136283311222\n",
      "goodput:  24.141165664099226\n",
      "avg_bct:  6263.225\n"
     ]
    }
   ],
   "source": [
    "def get_trace_prio(trace, max_prio=3):\n",
    "    prio_list = trace.partition_by(\"prio\")\n",
    "    # sort\n",
    "    prio_list.sort(key=lambda x: x[\"prio\"][0])\n",
    "    return prio_list\n",
    "# good put and avg bct\n",
    "def get_stats(result_file_path, trace_file_path=\"\"):\n",
    "    print(\"stats of %s\" % result_file_path)\n",
    "    trace = parse_trace(trace_file_path)\n",
    "    trace_prios = get_trace_prio(trace)\n",
    "    trace_size = len(trace)\n",
    "\n",
    "    all_bytes = np.sum(trace[\"size\"].to_numpy())\n",
    "    all_time = trace[\"start\"][-1] + trace[\"ddl\"][-1] * 1e-3\n",
    "    ideal_throughput = all_bytes / all_time\n",
    "    result = parse_result(result_file_path)\n",
    "    in_time = result.filter(pl.col(\"bct\") <= pl.col(\"deadline\"))\n",
    "    good_bytes = np.sum(in_time[\"size\"].to_numpy())\n",
    "    total_bytes = np.sum(result[\"size\"].to_numpy())\n",
    "    finish_time = result[\"duration\"][-1] # micro\n",
    "    throughput = total_bytes * 8 / finish_time # Mbps\n",
    "    goodput = good_bytes * 8 / finish_time # Mbps\n",
    "    avg_bct = np.average(result[\"bct\"].to_numpy()) #ms\n",
    "\n",
    "    prio_result = result.partition_by(\"priority\")\n",
    "    prio_result.sort(key=lambda x: x[\"priority\"][0])\n",
    "    for idx, prio_frame in enumerate(prio_result):\n",
    "        print(idx)\n",
    "        avg_prio_bct = np.average(prio_frame[\"bct\"].to_numpy()) #ms\n",
    "        print(\"prio \", prio_frame[\"priority\"][0], avg_prio_bct)\n",
    "        print(\"prio\", prio_frame[\"priority\"][0], len(prio_frame.filter(pl.col(\"bct\") <= pl.col(\"deadline\"))) / len(trace_prios[idx]))\n",
    "\n",
    "    # print(\"ideal throughput: \", ideal_throughput)\n",
    "    print(\"throughput:\", throughput)\n",
    "    print(\"goodput: \", goodput)\n",
    "    print(\"avg_bct: \", avg_bct)\n",
    "get_stats(\"data/client_n_n_fifo.csv\", \"data/trace_1300_1ms_1000_seq012.txt\")"
   ]
  },
  {
   "cell_type": "markdown",
   "metadata": {},
   "source": [
    "# get table stats"
   ]
  },
  {
   "cell_type": "code",
   "execution_count": 6,
   "metadata": {},
   "outputs": [
    {
     "name": "stdout",
     "output_type": "stream",
     "text": [
      "stats of ['data/client_n_n_fifo.csv', 'data/client_n_n.csv']\n",
      "|\t| QUIC | DTP |\n",
      "| Throughput (Mbps) | 79.15 | 37.23 |\n",
      "| Goodput (Mbps) | 24.14 | 37.08 |\n",
      "| 平均块完成时间 (ms) | 6263 | 3040 |\n",
      "| 高优先级块平均完成时间 (ms) | 6272 | 2495 |\n",
      "| 低优先级块平均完成时间 (ms) | 6253 | 4487 |\n"
     ]
    }
   ],
   "source": [
    "# good put and avg bct\n",
    "def get_table_stats(result_file_paths, trace_file_path= \"\", labels=[]):\n",
    "    print(\"stats of %s\" % str(result_file_paths))\n",
    "    while len(labels) < len(result_file_paths):\n",
    "        labels.append(\"#\" + str(len(labels)))\n",
    "    result_throughput = []\n",
    "    result_goodput = []\n",
    "    result_avg_bct = []\n",
    "    result_prio1_bct = []\n",
    "    result_prio2_bct = []\n",
    "    for result_file_path in result_file_paths:\n",
    "        result = parse_result(result_file_path)\n",
    "        in_time = result.filter(pl.col(\"bct\") <= pl.col(\"deadline\"))\n",
    "        good_bytes = np.sum(in_time[\"size\"].to_numpy())\n",
    "        total_bytes = np.sum(result[\"size\"].to_numpy())\n",
    "        finish_time = result[\"duration\"][-1] # micro\n",
    "        throughput = total_bytes * 8 / finish_time # Mbps\n",
    "        goodput = good_bytes * 8 / finish_time # Mbps\n",
    "        avg_bct = np.average(result[\"bct\"].to_numpy()) #ms\n",
    "\n",
    "        result_throughput.append(throughput)\n",
    "        result_goodput.append(goodput)\n",
    "        result_avg_bct.append(avg_bct)\n",
    "\n",
    "        prio_result = result.partition_by(\"priority\")\n",
    "        for idx, prio_frame in enumerate(prio_result):\n",
    "            avg_prio_bct = np.average(prio_frame[\"bct\"].to_numpy()) #ms\n",
    "            if prio_frame[\"priority\"][0] == 1:\n",
    "                result_prio1_bct.append(avg_prio_bct)\n",
    "            elif prio_frame[\"priority\"][0] == 2:\n",
    "                result_prio2_bct.append(avg_prio_bct)\n",
    "            else:\n",
    "                print(\"priority %d is not expected\" % (prio_frame[\"priority\"][0]))\n",
    "    print(\"|\\t| %s |\" % (\" | \".join(labels)))\n",
    "    print(\"| Throughput (Mbps) | %s |\" % (\" | \".join([x for x in map(lambda x: \"%0.2f\" % (x), result_throughput)])))\n",
    "    print(\"| Goodput (Mbps) | %s |\" % (\" | \".join([x for x in map(lambda x: \"%0.2f\" % (x), result_goodput)])))\n",
    "    print(\"| 平均块完成时间 (ms) | %s |\" % (\" | \".join([x for x in map(lambda x: \"%d\" % (int(x)), result_avg_bct)])))\n",
    "    print(\"| 高优先级块平均完成时间 (ms) | %s |\" % (\" | \".join([x for x in map(lambda x: \"%d\" % (int(x)), result_prio1_bct)])))\n",
    "    print(\"| 低优先级块平均完成时间 (ms) | %s |\" % (\" | \".join([x for x in map(lambda x: \"%d\" % (int(x)), result_prio2_bct)])))\n",
    "get_table_stats([\"data/client_n_n_fifo.csv\", \"data/client_n_n.csv\"], labels=[\"QUIC\", \"DTP\"])"
   ]
  },
  {
   "cell_type": "markdown",
   "metadata": {},
   "source": [
    "# draw figs"
   ]
  },
  {
   "cell_type": "code",
   "execution_count": null,
   "metadata": {},
   "outputs": [],
   "source": []
  },
  {
   "cell_type": "code",
   "execution_count": 37,
   "metadata": {},
   "outputs": [
    {
     "data": {
      "image/png": "[encoded data removed]",
      "text/plain": [
       "<Figure size 432x288 with 1 Axes>"
      ]
     },
     "metadata": {
      "needs_background": "light"
     },
     "output_type": "display_data"
    },
    {
     "data": {
      "image/png": "[encoded data removed]",
      "text/plain": [
       "<Figure size 432x288 with 1 Axes>"
      ]
     },
     "metadata": {
      "needs_background": "light"
     },
     "output_type": "display_data"
    }
   ],
   "source": [
    "def draw_in_time_rate(result_file_path1, result_file_path2, trace_file_path, label1=\"QUIC\", label2=\"DTP\"):\n",
    "    trace = parse_trace(trace_file_path)\n",
    "    trace_prio1, trace_prio2 = trace.partition_by(\"prio\")\n",
    "    trace_size = len(trace)\n",
    "    result1_bcr = []\n",
    "    result2_bcr = []\n",
    "    for result_file_path in [result_file_path1, result_file_path2]:\n",
    "        result = parse_result(result_file_path)\n",
    "        result_prio2, result_prio1 = result.partition_by(\"priority\")\n",
    "        if result_file_path1 == result_file_path:\n",
    "            result_bcr = result1_bcr\n",
    "        else:\n",
    "            result_bcr = result2_bcr\n",
    "        # total_bcr = len(result.filter(pl.col(\"bct\") <= pl.col(\"deadline\"))) / trace_size\n",
    "        prio1_bcr = len(result_prio1.filter(pl.col(\"bct\") <= pl.col(\"deadline\"))) / len(trace_prio1)\n",
    "        prio2_bcr = len(result_prio2.filter(pl.col(\"bct\") <= pl.col(\"deadline\"))) / len(trace_prio2)\n",
    "        # result_bcr.append(total_bcr)\n",
    "        result_bcr.append(prio1_bcr)\n",
    "        result_bcr.append(prio2_bcr)\n",
    "\n",
    "    labels = [\"High Priority\", \"Low Priority\"]\n",
    "    # quic_bcr = [len(results[0].filter(pl.col(\"bct\") <= pl.col(\"deadline\"))) / trace_size, 0, 0]\n",
    "    # dtp_bcr = [len(results[1].filter(pl.col(\"bct\") <= pl.col(\"deadline\"))) / trace_size, 0, 0]\n",
    "    x = np.arange(len(labels))  # the label locations\n",
    "    width = 0.30  # the width of the bars\n",
    "    fig, ax = plt.subplots()\n",
    "    rects1 = ax.bar(x - width/2, result1_bcr, width, label=label1)\n",
    "    rects2 = ax.bar(x + width/2, result2_bcr, width, label=label2)\n",
    "    ax.set_ylabel('Block Completion Rate')\n",
    "    ax.set_xticks(x)\n",
    "    ax.set_xticklabels(labels)\n",
    "    ax.legend()\n",
    "\n",
    "def draw_avg_bct(result_file_path1, result_file_path2, trace_file_path, label1=\"QUIC\", label2=\"DTP\"):\n",
    "    trace = parse_trace(trace_file_path)\n",
    "    trace_prio1, trace_prio2 = trace.partition_by(\"prio\")\n",
    "    trace_size = len(trace)\n",
    "    result1_bct = []\n",
    "    result2_bct = []\n",
    "    for result_file_path in [result_file_path1, result_file_path2]:\n",
    "        result = parse_result(result_file_path)\n",
    "        result_prio2, result_prio1 = result.partition_by(\"priority\")\n",
    "        if result_file_path1 == result_file_path:\n",
    "            result_bcr = result1_bct\n",
    "        else:\n",
    "            result_bcr = result2_bct\n",
    "        # total_bct = np.average(result[\"bct\"].to_numpy())\n",
    "        prio1_bct = np.average(result_prio1[\"bct\"].to_numpy())\n",
    "        prio2_bct = np.average(result_prio2[\"bct\"].to_numpy())\n",
    "        # result_bcr.append(total_bct)\n",
    "        result_bcr.append(prio1_bct)\n",
    "        result_bcr.append(prio2_bct)\n",
    "\n",
    "    labels = [\"High Priority\", \"Low Priority\"]\n",
    "    # quic_bcr = [len(results[0].filter(pl.col(\"bct\") <= pl.col(\"deadline\"))) / trace_size, 0, 0]\n",
    "    # dtp_bcr = [len(results[1].filter(pl.col(\"bct\") <= pl.col(\"deadline\"))) / trace_size, 0, 0]\n",
    "    x = np.arange(len(labels))  # the label locations\n",
    "    width = 0.30  # the width of the bars\n",
    "    fig, ax = plt.subplots()\n",
    "    rects1 = ax.bar(x - width/2, result1_bct, width, label=label1)\n",
    "    rects2 = ax.bar(x + width/2, result2_bct, width, label=label2)\n",
    "    ax.set_ylabel('Average BCT')\n",
    "    ax.set_xticks(x)\n",
    "    ax.set_xticklabels(labels)\n",
    "    ax.legend()\n",
    "\n",
    "def draw_cmp_fig(result_file_paths=[], trace_file_path=\"\", labels=[], width=0.2, with_total=True):\n",
    "    if not trace_file_path:\n",
    "        print(\"no trace file path\")\n",
    "        return\n",
    "    while len(labels) < len(result_file_paths):\n",
    "        labels.append(\"#\" + str(len(labels)))\n",
    "    trace = parse_trace(trace_file_path)\n",
    "    trace_prios = get_trace_prio(trace)\n",
    "    trace_size = len(trace)\n",
    "    bcrs = [[] for r in result_file_paths]\n",
    "    bcts = [[] for r in result_file_paths]\n",
    "\n",
    "    for idx, result_file_path in enumerate(result_file_paths):\n",
    "        result = parse_result(result_file_path)\n",
    "        result_prios = result.partition_by(\"priority\")\n",
    "        result_prios.sort(key=lambda x: x[\"priority\"][0])\n",
    "        \n",
    "        result_bcr = bcrs[idx]\n",
    "        total_bcr = len(result.filter(pl.col(\"bct\") <= pl.col(\"deadline\"))) / trace_size\n",
    "        if with_total:\n",
    "            result_bcr.append(total_bcr)\n",
    "\n",
    "        for i, result_prio in enumerate(result_prios):\n",
    "            prio_bcr = len(result_prio.filter(pl.col(\"bct\") <= pl.col(\"deadline\")) / len(trace_prios[i]))\n",
    "            result_bcr.append(prio_bcr)\n",
    "\n",
    "        result_bct = bcts[idx]\n",
    "        total_bct = np.average(result[\"bct\"].to_numpy())\n",
    "        if with_total:\n",
    "            result_bct.append(total_bct)\n",
    "\n",
    "        for i, result_prio in enumerate(result_prios):\n",
    "            prio_bct = np.average(result_prio[\"bct\"].to_numpy())\n",
    "            result_bct.append(prio_bct)\n",
    "    \n",
    "    # if with_total:\n",
    "    #     x_labels = [\"Total\", \"High Priority\", \"Low Priority\"]\n",
    "    # else:\n",
    "    #     x_labels = [\"High Priority\", \"Low Priority\"]\n",
    "    if with_total:\n",
    "        x_labels = [\"Total\"]\n",
    "    else:\n",
    "        x_labels = []\n",
    "\n",
    "    for i in range(len(trace_prios)):\n",
    "        x_labels.append(\"prio %d\" % i)\n",
    "\n",
    "    x = np.arange(len(x_labels))  # the label locations\n",
    "    fig, ax = plt.subplots()\n",
    "    for idx, bcr in enumerate(bcrs):\n",
    "        ax.bar(x + width * (idx - len(bcrs) // 2), bcr, width, label=labels[idx])\n",
    "    ax.set_ylabel('Block Completion Rate')\n",
    "    ax.set_xticks(x)\n",
    "    ax.set_xticklabels(x_labels)\n",
    "    ax.legend(ncol=len(x_labels) + 1, bbox_to_anchor=(0.5, 1),\n",
    "              loc='lower center')\n",
    "\n",
    "    x = np.arange(len(x_labels))  # the label locations\n",
    "    fig, ax = plt.subplots()\n",
    "    for idx, bct in enumerate(bcts):\n",
    "        ax.bar(x + width * (idx - len(bcts) // 2), bct, width, label=labels[idx])\n",
    "    ax.set_ylabel('Average BCT')\n",
    "    ax.set_xticks(x)\n",
    "    ax.set_xticklabels(x_labels)\n",
    "    # ax.legend()\n",
    "    ax.legend(ncol=len(x_labels) + 1, bbox_to_anchor=(0.5, 1),\n",
    "              loc='lower center')\n",
    "draw_cmp_fig([\"data/client_n_n_fifo.csv\", \"data/client_n_n.csv\"], \"data/trace_1300_1ms_1000_seq012.txt\", [\"QUIC\", \"DTP\"])"
   ]
  },
  {
   "cell_type": "markdown",
   "metadata": {},
   "source": [
    "# original data1"
   ]
  },
  {
   "cell_type": "markdown",
   "metadata": {},
   "source": [
    "## trace hist"
   ]
  },
  {
   "cell_type": "code",
   "execution_count": 7,
   "metadata": {},
   "outputs": [
    {
     "data": {
      "image/png": "[encoded data removed]",
      "text/plain": [
       "<Figure size 432x288 with 1 Axes>"
      ]
     },
     "metadata": {
      "needs_background": "light"
     },
     "output_type": "display_data"
    },
    {
     "data": {
      "image/png": "[encoded data removed]",
      "text/plain": [
       "<Figure size 432x288 with 1 Axes>"
      ]
     },
     "metadata": {
      "needs_background": "light"
     },
     "output_type": "display_data"
    }
   ],
   "source": [
    "trace_hist(\"data/trace_1300_1ms_1000_seq012.txt\")"
   ]
  },
  {
   "cell_type": "markdown",
   "metadata": {},
   "source": [
    "## fifo on/off"
   ]
  },
  {
   "cell_type": "code",
   "execution_count": 8,
   "metadata": {},
   "outputs": [
    {
     "name": "stdout",
     "output_type": "stream",
     "text": [
      "stats of data/client_n_n_fifo.csv\n"
     ]
    },
    {
     "ename": "FileNotFoundError",
     "evalue": "[Errno 2] No such file or directory: ''",
     "output_type": "error",
     "traceback": [
      "\u001b[0;31m---------------------------------------------------------------------------\u001b[0m",
      "\u001b[0;31mFileNotFoundError\u001b[0m                         Traceback (most recent call last)",
      "\u001b[0;32m/tmp/ipykernel_32051/470596585.py\u001b[0m in \u001b[0;36m<module>\u001b[0;34m\u001b[0m\n\u001b[0;32m----> 1\u001b[0;31m \u001b[0mget_stats\u001b[0m\u001b[0;34m(\u001b[0m\u001b[0;34m\"data/client_n_n_fifo.csv\"\u001b[0m\u001b[0;34m)\u001b[0m\u001b[0;34m\u001b[0m\u001b[0;34m\u001b[0m\u001b[0m\n\u001b[0m\u001b[1;32m      2\u001b[0m \u001b[0mget_stats\u001b[0m\u001b[0;34m(\u001b[0m\u001b[0;34m\"data/client_n_n.csv\"\u001b[0m\u001b[0;34m)\u001b[0m\u001b[0;34m\u001b[0m\u001b[0;34m\u001b[0m\u001b[0m\n\u001b[1;32m      3\u001b[0m \u001b[0mdraw_cmp_fig\u001b[0m\u001b[0;34m(\u001b[0m\u001b[0;34m[\u001b[0m\u001b[0;34m\"data/client_n_n_fifo.csv\"\u001b[0m\u001b[0;34m,\u001b[0m \u001b[0;34m\"data/client_n_n.csv\"\u001b[0m\u001b[0;34m]\u001b[0m\u001b[0;34m,\u001b[0m \u001b[0;34m\"data/trace_1300_1ms_1000_seq012.txt\"\u001b[0m\u001b[0;34m,\u001b[0m \u001b[0;34m[\u001b[0m\u001b[0;34m\"QUIC\"\u001b[0m\u001b[0;34m,\u001b[0m \u001b[0;34m\"DTP\"\u001b[0m\u001b[0;34m]\u001b[0m\u001b[0;34m)\u001b[0m\u001b[0;34m\u001b[0m\u001b[0;34m\u001b[0m\u001b[0m\n",
      "\u001b[0;32m/tmp/ipykernel_32051/1128442786.py\u001b[0m in \u001b[0;36mget_stats\u001b[0;34m(result_file_path, trace_file_path)\u001b[0m\n\u001b[1;32m      2\u001b[0m \u001b[0;32mdef\u001b[0m \u001b[0mget_stats\u001b[0m\u001b[0;34m(\u001b[0m\u001b[0mresult_file_path\u001b[0m\u001b[0;34m,\u001b[0m \u001b[0mtrace_file_path\u001b[0m\u001b[0;34m=\u001b[0m\u001b[0;34m\"\"\u001b[0m\u001b[0;34m)\u001b[0m\u001b[0;34m:\u001b[0m\u001b[0;34m\u001b[0m\u001b[0;34m\u001b[0m\u001b[0m\n\u001b[1;32m      3\u001b[0m     \u001b[0mprint\u001b[0m\u001b[0;34m(\u001b[0m\u001b[0;34m\"stats of %s\"\u001b[0m \u001b[0;34m%\u001b[0m \u001b[0mresult_file_path\u001b[0m\u001b[0;34m)\u001b[0m\u001b[0;34m\u001b[0m\u001b[0;34m\u001b[0m\u001b[0m\n\u001b[0;32m----> 4\u001b[0;31m     \u001b[0mtrace\u001b[0m \u001b[0;34m=\u001b[0m \u001b[0mparse_trace\u001b[0m\u001b[0;34m(\u001b[0m\u001b[0mtrace_file_path\u001b[0m\u001b[0;34m)\u001b[0m\u001b[0;34m\u001b[0m\u001b[0;34m\u001b[0m\u001b[0m\n\u001b[0m\u001b[1;32m      5\u001b[0m     \u001b[0mtrace_prio1\u001b[0m\u001b[0;34m,\u001b[0m \u001b[0mtrace_prio2\u001b[0m \u001b[0;34m=\u001b[0m \u001b[0mtrace\u001b[0m\u001b[0;34m.\u001b[0m\u001b[0mpartition_by\u001b[0m\u001b[0;34m(\u001b[0m\u001b[0;34m\"prio\"\u001b[0m\u001b[0;34m)\u001b[0m\u001b[0;34m\u001b[0m\u001b[0;34m\u001b[0m\u001b[0m\n\u001b[1;32m      6\u001b[0m     \u001b[0mtrace_size\u001b[0m \u001b[0;34m=\u001b[0m \u001b[0mlen\u001b[0m\u001b[0;34m(\u001b[0m\u001b[0mtrace\u001b[0m\u001b[0;34m)\u001b[0m\u001b[0;34m\u001b[0m\u001b[0;34m\u001b[0m\u001b[0m\n",
      "\u001b[0;32m/tmp/ipykernel_32051/2886753412.py\u001b[0m in \u001b[0;36mparse_trace\u001b[0;34m(trace_file_name)\u001b[0m\n\u001b[1;32m     33\u001b[0m     \"\"\"\n\u001b[1;32m     34\u001b[0m     \u001b[0mtrace\u001b[0m \u001b[0;34m=\u001b[0m \u001b[0;34m[\u001b[0m\u001b[0;34m]\u001b[0m\u001b[0;34m\u001b[0m\u001b[0;34m\u001b[0m\u001b[0m\n\u001b[0;32m---> 35\u001b[0;31m     \u001b[0;32mwith\u001b[0m \u001b[0mopen\u001b[0m\u001b[0;34m(\u001b[0m\u001b[0mtrace_file_name\u001b[0m\u001b[0;34m,\u001b[0m \u001b[0;34m\"r\"\u001b[0m\u001b[0;34m)\u001b[0m \u001b[0;32mas\u001b[0m \u001b[0mf\u001b[0m\u001b[0;34m:\u001b[0m\u001b[0;34m\u001b[0m\u001b[0;34m\u001b[0m\u001b[0m\n\u001b[0m\u001b[1;32m     36\u001b[0m         \u001b[0mlines\u001b[0m \u001b[0;34m=\u001b[0m \u001b[0mf\u001b[0m\u001b[0;34m.\u001b[0m\u001b[0mreadlines\u001b[0m\u001b[0;34m(\u001b[0m\u001b[0;34m)\u001b[0m\u001b[0;34m\u001b[0m\u001b[0;34m\u001b[0m\u001b[0m\n\u001b[1;32m     37\u001b[0m         \u001b[0;32mfor\u001b[0m \u001b[0midx\u001b[0m\u001b[0;34m,\u001b[0m \u001b[0mline\u001b[0m \u001b[0;32min\u001b[0m \u001b[0menumerate\u001b[0m\u001b[0;34m(\u001b[0m\u001b[0mlines\u001b[0m\u001b[0;34m)\u001b[0m\u001b[0;34m:\u001b[0m\u001b[0;34m\u001b[0m\u001b[0;34m\u001b[0m\u001b[0m\n",
      "\u001b[0;31mFileNotFoundError\u001b[0m: [Errno 2] No such file or directory: ''"
     ]
    }
   ],
   "source": [
    "get_stats(\"data/client_n_n_fifo.csv\")\n",
    "get_stats(\"data/client_n_n.csv\")\n",
    "draw_cmp_fig([\"data/client_n_n_fifo.csv\", \"data/client_n_n.csv\"], \"data/trace_1300_1ms_1000_seq012.txt\", [\"QUIC\", \"DTP\"])"
   ]
  },
  {
   "cell_type": "markdown",
   "metadata": {},
   "source": [
    "## tos on/off"
   ]
  },
  {
   "cell_type": "code",
   "execution_count": null,
   "metadata": {},
   "outputs": [
    {
     "ename": "",
     "evalue": "",
     "output_type": "error",
     "traceback": [
      "\u001b[1;31mRunning cells with 'Python 3.10.4 ('python310')' requires ipykernel package.\n",
      "\u001b[1;31mRun the following command to install 'ipykernel' into the Python environment. \n",
      "\u001b[1;31mCommand: 'conda install -n python310 ipykernel --update-deps --force-reinstall'"
     ]
    }
   ],
   "source": [
    "get_stats(\"data/client_t_n_fifo.csv\")\n",
    "get_stats(\"data/client_t_t_fifo.csv\")\n",
    "draw_cmp_fig([\"data/client_t_n_fifo.csv\", \"data/client_t_t_fifo.csv\"], \"data/trace_1300_1ms_1000_seq012.txt\", [\"QUIC\", \"DTP\"])"
   ]
  },
  {
   "cell_type": "markdown",
   "metadata": {},
   "source": [
    "# data display"
   ]
  },
  {
   "cell_type": "markdown",
   "metadata": {},
   "source": [
    "## original data all"
   ]
  },
  {
   "cell_type": "code",
   "execution_count": null,
   "metadata": {},
   "outputs": [
    {
     "ename": "",
     "evalue": "",
     "output_type": "error",
     "traceback": [
      "\u001b[1;31mRunning cells with 'Python 3.10.4 ('python310')' requires ipykernel package.\n",
      "\u001b[1;31mRun the following command to install 'ipykernel' into the Python environment. \n",
      "\u001b[1;31mCommand: 'conda install -n python310 ipykernel --update-deps --force-reinstall'"
     ]
    }
   ],
   "source": [
    "get_stats(\"data/client_n_n_fifo.csv\")\n",
    "get_stats(\"data/client_n_n.csv\")\n",
    "get_stats(\"data/client_t_t_fifo.csv\")\n",
    "get_stats(\"data/client_t_t.csv\")"
   ]
  },
  {
   "cell_type": "code",
   "execution_count": null,
   "metadata": {},
   "outputs": [
    {
     "ename": "",
     "evalue": "",
     "output_type": "error",
     "traceback": [
      "\u001b[1;31mRunning cells with 'Python 3.10.4 ('python310')' requires ipykernel package.\n",
      "\u001b[1;31mRun the following command to install 'ipykernel' into the Python environment. \n",
      "\u001b[1;31mCommand: 'conda install -n python310 ipykernel --update-deps --force-reinstall'"
     ]
    }
   ],
   "source": [
    "draw_cmp_fig([\"data/client_n_n_fifo.csv\", \"data/client_n_n.csv\", \"data/client_t_t_fifo.csv\", \"data/client_t_t.csv\"], \"data/trace_1300_1ms_1000_seq012.txt\")"
   ]
  },
  {
   "cell_type": "markdown",
   "metadata": {},
   "source": [
    "## 25 data 100000 1"
   ]
  },
  {
   "cell_type": "code",
   "execution_count": null,
   "metadata": {},
   "outputs": [
    {
     "ename": "",
     "evalue": "",
     "output_type": "error",
     "traceback": [
      "\u001b[1;31mRunning cells with 'Python 3.10.4 ('python310')' requires ipykernel package.\n",
      "\u001b[1;31mRun the following command to install 'ipykernel' into the Python environment. \n",
      "\u001b[1;31mCommand: 'conda install -n python310 ipykernel --update-deps --force-reinstall'"
     ]
    }
   ],
   "source": [
    "n_n_file = \"25data/client_25_100000_1_n_n.csv\"\n",
    "n_t_file = \"25data/client_25_100000_1_n_t.csv\" \n",
    "t_n_file = \"25data/client_25_100000_1_t_n.csv\" \n",
    "t_t_file = \"25data/client_25_100000_1_t_t.csv\" \n",
    "get_stats(n_n_file)\n",
    "get_stats(n_t_file)\n",
    "get_stats(t_n_file)\n",
    "get_stats(t_t_file)\n",
    "draw_cmp_fig([n_n_file, n_t_file, t_n_file, t_t_file], \"trace_tos_2.txt\")"
   ]
  },
  {
   "cell_type": "markdown",
   "metadata": {},
   "source": [
    "## 25 data 10000 1"
   ]
  },
  {
   "cell_type": "code",
   "execution_count": null,
   "metadata": {},
   "outputs": [
    {
     "ename": "",
     "evalue": "",
     "output_type": "error",
     "traceback": [
      "\u001b[1;31mRunning cells with 'Python 3.10.4 ('python310')' requires ipykernel package.\n",
      "\u001b[1;31mRun the following command to install 'ipykernel' into the Python environment. \n",
      "\u001b[1;31mCommand: 'conda install -n python310 ipykernel --update-deps --force-reinstall'"
     ]
    }
   ],
   "source": [
    "n_n_file = \"25data/client_25_10000_1_n_n.csv\"\n",
    "n_t_file = \"25data/client_25_10000_1_n_t.csv\" \n",
    "t_n_file = \"25data/client_25_10000_1_t_n.csv\" \n",
    "t_t_file = \"25data/client_25_10000_1_t_t.csv\" \n",
    "get_stats(n_n_file)\n",
    "get_stats(n_t_file)\n",
    "get_stats(t_n_file)\n",
    "get_stats(t_t_file)\n",
    "draw_cmp_fig([n_n_file, n_t_file, t_n_file, t_t_file], \"trace_tos_1.txt\")"
   ]
  },
  {
   "cell_type": "markdown",
   "metadata": {},
   "source": [
    "## 25 data 30000 1"
   ]
  },
  {
   "cell_type": "code",
   "execution_count": null,
   "metadata": {},
   "outputs": [
    {
     "ename": "",
     "evalue": "",
     "output_type": "error",
     "traceback": [
      "\u001b[1;31mRunning cells with 'Python 3.10.4 ('python310')' requires ipykernel package.\n",
      "\u001b[1;31mRun the following command to install 'ipykernel' into the Python environment. \n",
      "\u001b[1;31mCommand: 'conda install -n python310 ipykernel --update-deps --force-reinstall'"
     ]
    }
   ],
   "source": [
    "n_n_file = \"25data/client_25_30000_1_n_n.csv\"\n",
    "n_t_file = \"25data/client_25_30000_1_n_t.csv\" \n",
    "t_n_file = \"25data/client_25_30000_1_t_n.csv\" \n",
    "t_t_file = \"25data/client_25_30000_1_t_t.csv\" \n",
    "get_stats(n_n_file)\n",
    "get_stats(n_t_file)\n",
    "get_stats(t_n_file)\n",
    "get_stats(t_t_file)\n",
    "draw_cmp_fig([n_n_file, n_t_file, t_n_file, t_t_file], \"trace_tos_3.txt\")"
   ]
  },
  {
   "cell_type": "markdown",
   "metadata": {},
   "source": [
    "#  Paper result 30000"
   ]
  },
  {
   "cell_type": "code",
   "execution_count": 16,
   "metadata": {},
   "outputs": [],
   "source": [
    "n_n_file = \"25data/client_25_30000_1_n_n.csv\"\n",
    "n_t_file = \"25data/client_25_30000_1_n_t.csv\" \n",
    "t_n_file = \"25data/client_25_30000_1_t_n.csv\" \n",
    "t_t_file = \"25data/client_25_30000_1_t_t.csv\" \n",
    "trace_file = \"trace_tos_3.txt\""
   ]
  },
  {
   "cell_type": "markdown",
   "metadata": {},
   "source": [
    "## trace hist"
   ]
  },
  {
   "cell_type": "code",
   "execution_count": 17,
   "metadata": {},
   "outputs": [
    {
     "ename": "FileNotFoundError",
     "evalue": "[Errno 2] No such file or directory: 'trace_tos_3.txt'",
     "output_type": "error",
     "traceback": [
      "\u001b[0;31m---------------------------------------------------------------------------\u001b[0m",
      "\u001b[0;31mFileNotFoundError\u001b[0m                         Traceback (most recent call last)",
      "\u001b[0;32m/tmp/ipykernel_32051/2121636853.py\u001b[0m in \u001b[0;36m<module>\u001b[0;34m\u001b[0m\n\u001b[0;32m----> 1\u001b[0;31m \u001b[0mtrace_hist\u001b[0m\u001b[0;34m(\u001b[0m\u001b[0mtrace_file\u001b[0m\u001b[0;34m)\u001b[0m\u001b[0;34m\u001b[0m\u001b[0;34m\u001b[0m\u001b[0m\n\u001b[0m",
      "\u001b[0;32m/tmp/ipykernel_32051/1775540661.py\u001b[0m in \u001b[0;36mtrace_hist\u001b[0;34m(trace_file_name)\u001b[0m\n\u001b[1;32m      4\u001b[0m \u001b[0mplt\u001b[0m\u001b[0;34m.\u001b[0m\u001b[0mstyle\u001b[0m\u001b[0;34m.\u001b[0m\u001b[0muse\u001b[0m\u001b[0;34m(\u001b[0m\u001b[0;34m\"seaborn-white\"\u001b[0m\u001b[0;34m)\u001b[0m\u001b[0;34m\u001b[0m\u001b[0;34m\u001b[0m\u001b[0m\n\u001b[1;32m      5\u001b[0m \u001b[0;32mdef\u001b[0m \u001b[0mtrace_hist\u001b[0m\u001b[0;34m(\u001b[0m\u001b[0mtrace_file_name\u001b[0m\u001b[0;34m)\u001b[0m\u001b[0;34m:\u001b[0m\u001b[0;34m\u001b[0m\u001b[0;34m\u001b[0m\u001b[0m\n\u001b[0;32m----> 6\u001b[0;31m     \u001b[0mtrace\u001b[0m \u001b[0;34m=\u001b[0m \u001b[0mparse_trace\u001b[0m\u001b[0;34m(\u001b[0m\u001b[0mtrace_file_name\u001b[0m\u001b[0;34m)\u001b[0m\u001b[0;34m\u001b[0m\u001b[0;34m\u001b[0m\u001b[0m\n\u001b[0m\u001b[1;32m      7\u001b[0m     \u001b[0;31m# print the distribution of block_size, ddl and priority with block num\u001b[0m\u001b[0;34m\u001b[0m\u001b[0;34m\u001b[0m\u001b[0;34m\u001b[0m\u001b[0m\n\u001b[1;32m      8\u001b[0m     \u001b[0;31m# print(\u001b[0m\u001b[0;34m\u001b[0m\u001b[0;34m\u001b[0m\u001b[0;34m\u001b[0m\u001b[0m\n",
      "\u001b[0;32m/tmp/ipykernel_32051/2886753412.py\u001b[0m in \u001b[0;36mparse_trace\u001b[0;34m(trace_file_name)\u001b[0m\n\u001b[1;32m     33\u001b[0m     \"\"\"\n\u001b[1;32m     34\u001b[0m     \u001b[0mtrace\u001b[0m \u001b[0;34m=\u001b[0m \u001b[0;34m[\u001b[0m\u001b[0;34m]\u001b[0m\u001b[0;34m\u001b[0m\u001b[0;34m\u001b[0m\u001b[0m\n\u001b[0;32m---> 35\u001b[0;31m     \u001b[0;32mwith\u001b[0m \u001b[0mopen\u001b[0m\u001b[0;34m(\u001b[0m\u001b[0mtrace_file_name\u001b[0m\u001b[0;34m,\u001b[0m \u001b[0;34m\"r\"\u001b[0m\u001b[0;34m)\u001b[0m \u001b[0;32mas\u001b[0m \u001b[0mf\u001b[0m\u001b[0;34m:\u001b[0m\u001b[0;34m\u001b[0m\u001b[0;34m\u001b[0m\u001b[0m\n\u001b[0m\u001b[1;32m     36\u001b[0m         \u001b[0mlines\u001b[0m \u001b[0;34m=\u001b[0m \u001b[0mf\u001b[0m\u001b[0;34m.\u001b[0m\u001b[0mreadlines\u001b[0m\u001b[0;34m(\u001b[0m\u001b[0;34m)\u001b[0m\u001b[0;34m\u001b[0m\u001b[0;34m\u001b[0m\u001b[0m\n\u001b[1;32m     37\u001b[0m         \u001b[0;32mfor\u001b[0m \u001b[0midx\u001b[0m\u001b[0;34m,\u001b[0m \u001b[0mline\u001b[0m \u001b[0;32min\u001b[0m \u001b[0menumerate\u001b[0m\u001b[0;34m(\u001b[0m\u001b[0mlines\u001b[0m\u001b[0;34m)\u001b[0m\u001b[0;34m:\u001b[0m\u001b[0;34m\u001b[0m\u001b[0;34m\u001b[0m\u001b[0m\n",
      "\u001b[0;31mFileNotFoundError\u001b[0m: [Errno 2] No such file or directory: 'trace_tos_3.txt'"
     ]
    }
   ],
   "source": [
    "trace_hist(trace_file)"
   ]
  },
  {
   "cell_type": "markdown",
   "metadata": {},
   "source": [
    "## fifo on/off"
   ]
  },
  {
   "cell_type": "code",
   "execution_count": 15,
   "metadata": {},
   "outputs": [
    {
     "ename": "NameError",
     "evalue": "name 'n_n_file' is not defined",
     "output_type": "error",
     "traceback": [
      "\u001b[0;31m---------------------------------------------------------------------------\u001b[0m",
      "\u001b[0;31mNameError\u001b[0m                                 Traceback (most recent call last)",
      "\u001b[0;32m/tmp/ipykernel_32051/638287739.py\u001b[0m in \u001b[0;36m<module>\u001b[0;34m\u001b[0m\n\u001b[0;32m----> 1\u001b[0;31m \u001b[0mget_table_stats\u001b[0m\u001b[0;34m(\u001b[0m\u001b[0;34m[\u001b[0m\u001b[0mn_n_file\u001b[0m\u001b[0;34m,\u001b[0m \u001b[0mt_n_file\u001b[0m\u001b[0;34m]\u001b[0m\u001b[0;34m,\u001b[0m \u001b[0mlabels\u001b[0m\u001b[0;34m=\u001b[0m\u001b[0;34m[\u001b[0m\u001b[0;34m\"QUIC\"\u001b[0m\u001b[0;34m,\u001b[0m \u001b[0;34m\"DTP\"\u001b[0m\u001b[0;34m]\u001b[0m\u001b[0;34m)\u001b[0m\u001b[0;34m\u001b[0m\u001b[0;34m\u001b[0m\u001b[0m\n\u001b[0m\u001b[1;32m      2\u001b[0m \u001b[0mdraw_cmp_fig\u001b[0m\u001b[0;34m(\u001b[0m\u001b[0;34m[\u001b[0m\u001b[0mn_n_file\u001b[0m\u001b[0;34m,\u001b[0m \u001b[0mt_n_file\u001b[0m\u001b[0;34m]\u001b[0m\u001b[0;34m,\u001b[0m \u001b[0mtrace_file\u001b[0m\u001b[0;34m,\u001b[0m \u001b[0;34m[\u001b[0m\u001b[0;34m\"QUIC\"\u001b[0m\u001b[0;34m,\u001b[0m \u001b[0;34m\"DTP\"\u001b[0m\u001b[0;34m]\u001b[0m\u001b[0;34m,\u001b[0m \u001b[0mwidth\u001b[0m\u001b[0;34m=\u001b[0m\u001b[0;36m0.4\u001b[0m\u001b[0;34m)\u001b[0m\u001b[0;34m\u001b[0m\u001b[0;34m\u001b[0m\u001b[0m\n",
      "\u001b[0;31mNameError\u001b[0m: name 'n_n_file' is not defined"
     ]
    }
   ],
   "source": [
    "get_table_stats([n_n_file, t_n_file], labels=[\"QUIC\", \"DTP\"])\n",
    "draw_cmp_fig([n_n_file, t_n_file], trace_file, [\"QUIC\", \"DTP\"], width=0.4)"
   ]
  },
  {
   "cell_type": "markdown",
   "metadata": {},
   "source": [
    "## tos on/off"
   ]
  },
  {
   "cell_type": "code",
   "execution_count": null,
   "metadata": {},
   "outputs": [
    {
     "ename": "",
     "evalue": "",
     "output_type": "error",
     "traceback": [
      "\u001b[1;31mRunning cells with 'Python 3.10.4 ('python310')' requires ipykernel package.\n",
      "\u001b[1;31mRun the following command to install 'ipykernel' into the Python environment. \n",
      "\u001b[1;31mCommand: 'conda install -n python310 ipykernel --update-deps --force-reinstall'"
     ]
    }
   ],
   "source": [
    "get_table_stats([n_n_file, n_t_file], labels=[\"NO DS\", \"DS\"])\n",
    "draw_cmp_fig([n_n_file, n_t_file], trace_file, [\"NO DS\", \"DS\"], width=0.4)"
   ]
  },
  {
   "cell_type": "markdown",
   "metadata": {},
   "source": [
    "## final stats"
   ]
  },
  {
   "cell_type": "code",
   "execution_count": null,
   "metadata": {},
   "outputs": [
    {
     "ename": "",
     "evalue": "",
     "output_type": "error",
     "traceback": [
      "\u001b[1;31mRunning cells with 'Python 3.10.4 ('python310')' requires ipykernel package.\n",
      "\u001b[1;31mRun the following command to install 'ipykernel' into the Python environment. \n",
      "\u001b[1;31mCommand: 'conda install -n python310 ipykernel --update-deps --force-reinstall'"
     ]
    }
   ],
   "source": [
    "get_stats(n_n_file, trace_file)\n",
    "print()\n",
    "get_stats(n_t_file, trace_file)\n",
    "print()\n",
    "get_stats(t_n_file, trace_file)\n",
    "print()\n",
    "get_stats(t_t_file, trace_file)\n",
    "draw_cmp_fig([n_n_file, n_t_file, t_n_file, t_t_file], trace_file, labels=[\"QUIC\", \"DTP\", \"QUIC + DS\", \"DTP + DS\"], width=0.2)"
   ]
  },
  {
   "cell_type": "markdown",
   "metadata": {},
   "source": [
    "# Playground"
   ]
  },
  {
   "cell_type": "code",
   "execution_count": 51,
   "metadata": {},
   "outputs": [
    {
     "name": "stdout",
     "output_type": "stream",
     "text": [
      "stats of ../dtp-test/examples/dtp_test/client_legacy_loss0_basic.csv\n",
      "0\n",
      "prio  1 8516.78205128205\n",
      "prio 1 0.40825035561877665\n",
      "1\n",
      "prio  2 85842.35555555555\n",
      "prio 2 0.03611111111111111\n",
      "throughput: 1.0698181144992136\n",
      "goodput:  0.01609063827411375\n",
      "avg_bct:  34728.84086629002\n",
      "\n",
      "stats of ../dtp-test/examples/dtp_test/client_legacy_loss0_basic_tos.csv\n",
      "0\n",
      "prio  1 7664.011396011396\n",
      "prio 1 0.39971550497866287\n",
      "1\n",
      "prio  2 85735.44722222222\n",
      "prio 2 0.025\n",
      "throughput: 1.0853978384607073\n",
      "goodput:  0.014610584416245607\n",
      "avg_bct:  34128.904896421845\n",
      "\n",
      "stats of ../dtp-test/examples/dtp_test/client_legacy_loss0.csv\n",
      "0\n",
      "prio  1 61.173789173789174\n",
      "prio 1 0.9985775248933144\n",
      "1\n",
      "prio  2 162.140625\n",
      "prio 2 0.1111111111111111\n",
      "throughput: 0.6423501915322876\n",
      "goodput:  0.5413443100644737\n",
      "avg_bct:  69.60966057441253\n",
      "\n",
      "stats of ../dtp-test/examples/dtp_test/client_legacy_loss0_tos.csv\n",
      "0\n",
      "prio  1 64.01997146932953\n",
      "prio 1 0.9971550497866287\n",
      "1\n",
      "prio  2 151.75384615384615\n",
      "prio 2 0.13055555555555556\n",
      "throughput: 0.6291369405578351\n",
      "goodput:  0.564618188034095\n",
      "avg_bct:  71.46475195822454\n"
     ]
    }
   ],
   "source": [
    "n_n_file = \"../dtp-test/examples/dtp_test/client_legacy_loss0_basic.csv\"\n",
    "n_t_file = \"../dtp-test/examples/dtp_test/client_legacy_loss0_basic_tos.csv\"\n",
    "t_n_file = \"../dtp-test/examples/dtp_test/client_legacy_loss0.csv\"\n",
    "t_t_file = \"../dtp-test/examples/dtp_test/client_legacy_loss0_tos.csv\"\n",
    "trace_file = \"../dtp-test/examples/dtp_test/trace/block_trace/aitrans_block.txt\"\n",
    "get_stats(n_n_file, trace_file)\n",
    "print()\n",
    "get_stats(n_t_file, trace_file)\n",
    "print()\n",
    "get_stats(t_n_file, trace_file)\n",
    "print()\n",
    "get_stats(t_t_file, trace_file)"
   ]
  },
  {
   "cell_type": "code",
   "execution_count": 104,
   "metadata": {},
   "outputs": [
    {
     "name": "stdout",
     "output_type": "stream",
     "text": [
      "stats of ../dtp-test/examples/dtp_test/client_video_n_n.csv\n",
      "0\n",
      "prio  0 12220.66265060241\n",
      "prio 0 0.009036144578313253\n",
      "1\n",
      "prio  1 29210.275\n",
      "prio 1 0.008333333333333333\n",
      "2\n",
      "prio  2 4608.776617954071\n",
      "prio 2 0.25\n",
      "throughput: 1.2669331416256053\n",
      "goodput:  0.06487320763380235\n",
      "avg_bct:  10494.196562835661\n",
      "\n",
      "stats of ../dtp-test/examples/dtp_test/client_video_n_t.csv\n",
      "0\n",
      "prio  0 12506.210843373494\n",
      "prio 0 0.006024096385542169\n",
      "1\n",
      "prio  1 28603.575\n",
      "prio 1 0.008333333333333333\n",
      "2\n",
      "prio  2 4290.789583333333\n",
      "prio 2 0.275\n",
      "throughput: 1.2766111403289142\n",
      "goodput:  0.06636824290745649\n",
      "avg_bct:  10347.714592274679\n",
      "\n",
      "stats of ../dtp-test/examples/dtp_test/client_video_t_n.csv\n",
      "0\n",
      "prio  0 71.55755395683454\n",
      "prio 0 0.7590361445783133\n",
      "1\n",
      "prio  1 121.3076923076923\n",
      "prio 1 0.26666666666666666\n",
      "2\n",
      "prio  2 92.56589147286822\n",
      "prio 2 0.7541666666666667\n",
      "throughput: 1.595878177884876\n",
      "goodput:  1.4262978385105283\n",
      "avg_bct:  85.8622159090909\n",
      "\n",
      "stats of ~/dtp-test/examples/dtp_test/client_video_t_t.csv\n",
      "0\n",
      "prio  0 72.62989323843416\n",
      "prio 0 0.7620481927710844\n",
      "1\n",
      "prio  1 124.38636363636364\n",
      "prio 1 0.325\n",
      "2\n",
      "prio  2 90.31607629427793\n",
      "prio 2 0.7354166666666667\n",
      "throughput: 1.6213801262903589\n",
      "goodput:  1.4698086259695464\n",
      "avg_bct:  85.30057803468208\n"
     ]
    }
   ],
   "source": [
    "n_n_file = \"../dtp-test/examples/dtp_test/client_video_n_n.csv\"\n",
    "n_t_file = \"../dtp-test/examples/dtp_test/client_video_n_t.csv\"\n",
    "t_n_file = \"../dtp-test/examples/dtp_test/client_video_t_n.csv\"\n",
    "t_t_file = \"~/dtp-test/examples/dtp_test/client_video_t_t.csv\"\n",
    "trace_file = \"./video_control.txt\"\n",
    "get_stats(n_n_file, trace_file)\n",
    "print()\n",
    "get_stats(n_t_file, trace_file)\n",
    "print()\n",
    "get_stats(t_n_file, trace_file)\n",
    "print()\n",
    "get_stats(t_t_file, trace_file)\n",
    "# draw_cmp_fig([\"~/dtp-test/examples/dtp_test/client_ddl_100_basic.csv\", \"~/dtp-test/examples/dtp_test/client_ddl_100.csv\"], \"./video_control.txt\", [\"QUIC\", \"DTP\"], width=0.4)"
   ]
  }
 ],
 "metadata": {
  "kernelspec": {
   "display_name": "Python 3.8.13 ('base')",
   "language": "python",
   "name": "python3"
  },
  "language_info": {
   "codemirror_mode": {
    "name": "ipython",
    "version": 3
   },
   "file_extension": ".py",
   "mimetype": "text/x-python",
   "name": "python",
   "nbconvert_exporter": "python",
   "pygments_lexer": "ipython3",
   "version": "3.8.13"
  },
  "orig_nbformat": 4,
  "vscode": {
   "interpreter": {
    "hash": "7a2c4b191d1ae843dde5cb5f4d1f62fa892f6b79b0f9392a84691e890e33c5a4"
   }
  }
 },
 "nbformat": 4,
 "nbformat_minor": 2
}
